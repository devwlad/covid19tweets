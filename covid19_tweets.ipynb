{
  "nbformat": 4,
  "nbformat_minor": 0,
  "metadata": {
    "colab": {
      "name": "covid19_tweets.ipynb",
      "provenance": [],
      "include_colab_link": true
    },
    "kernelspec": {
      "name": "python3",
      "display_name": "Python 3"
    }
  },
  "cells": [
    {
      "cell_type": "markdown",
      "metadata": {
        "id": "view-in-github",
        "colab_type": "text"
      },
      "source": [
        "<a href=\"https://colab.research.google.com/github/devwlad/covid19tweets/blob/master/covid19_tweets.ipynb\" target=\"_parent\"><img src=\"https://colab.research.google.com/assets/colab-badge.svg\" alt=\"Open In Colab\"/></a>"
      ]
    },
    {
      "cell_type": "markdown",
      "metadata": {
        "id": "RR72SfY0xRtz",
        "colab_type": "text"
      },
      "source": [
        "# **Análise de tweets brasileiros sobre a COVID-19**\n"
      ]
    },
    {
      "cell_type": "markdown",
      "metadata": {
        "id": "Q_FdnigXk7OG",
        "colab_type": "text"
      },
      "source": [
        "# Apresentação\n",
        "\n",
        "> ### Resumo\n",
        "Este documento tem o objetivo de apresentar uma análise exploratória de tweets gerados por brasileiros, e que envolvem o tema COVID-19, para extrair e visualizar informações úteis com o intuito de compreender as principais dúvidas das pessoas sobre esta pandemia.\n",
        "\n",
        "> ### Autores\n",
        "Alunos de pós-graduação em CIência de Dados da Universidade do Estado do Amazonas:\n",
        "1.   [Patrick Tapajós Pinto](https://www.linkedin.com/in/patrick-tapajos-pinto/)\n",
        "2.   [Wladimir Barroso Guedes de Araújo Neto](https://www.linkedin.com/in/wladneto/)\n",
        "\n",
        "> ### Ferramentas Utilizadas\n",
        "A análise será efetuada utilizando-se a linguagem de programação python e suas bibliotecas para análise e processamento de dados **Pandas** e **NumPy**, bem como as bibliotecas **Matplotlib** e **Seaborn** para visualização de dados.\n"
      ]
    },
    {
      "cell_type": "markdown",
      "metadata": {
        "id": "g5ZmOLuJxSwu",
        "colab_type": "text"
      },
      "source": [
        "# Introdução\n",
        "\n",
        "><div align=\"justify\">\n",
        "O surto do COVID-19 na China foi noticiado em dezembro de 2019. A Organização Mundial de Saúde (OMS) declarou estado de emergência devido ao rápido espalhamento do vírus no mundo. Na América Latina, o Brasil é o país mais afetado pela doença. De acordo com o relatório pela OMS, houve o registro de 347,398 casos de infectados e de 22,013 mortes no Brasil.\n",
        "<br>\n",
        "Devido à rápida propagação da doença no mundo, as plataformas de mídias sociais como Twitter, Facebook e Instagram tornaram-se locais onde ocorre uma intensa e contínua troca de informações entre órgãos governamentais, profissionais da área de saúde e o público em geral.\n",
        "Um representativo número de estudos científicos têm mostrado que as mídias sociais podem desempenhar um papel importante como fonte de dados para análise de crises e também para entender atitudes e comportamentos das pessoas durante uma pandemia.\n",
        "<br>\n",
        "Com o objetivo de auxiliar o monitoramento da saúde pública e também para dar suporte a tomada de decisão de profissionais, diversos sistemas de monitoramento são desenvolvidos para classificar grandes quantidades de dados oriundos das mídias sociais. Estes dados podem ser\n",
        "empregados para identificar rapidamente os pensamentos, atitudes, sentimentos e tópicos que ocupam as mentes das pessoas em relação à pandemia do COVID-19. A análise sistemática desses dados pode ajudar os governantes, profissionais da saúde e o público em geral a identificar\n",
        "questões que mais lhes interessam e tratá-las de maneira mais apropriada.\n",
        "<br>\n",
        "Dentre as plataformas de mídias sociais, o Twitter é uma das mais populares. De acordo com, existe aproximadamente 200 milhões de usuários registrados nesta plataforma e que publicam mais de 500 milhões de tuítes diariamente. Portanto, pode-se aproveitar desse alto volume e troca frequente de informações para se conhecer as dúvidas sobre determinadas doenças. Como exemplo de importância desta plataforma em situações de crise, a atual pandemia de COVID-19 foi primeiro comunicada para a populacão na China através do site Weibo, que é o correspondente ao Twitter na China, antes mesmo do pronunciamento oficial das autoridades locais. Recentemente, existe um grande interesse de pesquisadores investigando o uso do Twitter para pesquisas relacionadas à saúde pública.\n",
        "</div>\n"
      ]
    },
    {
      "cell_type": "markdown",
      "metadata": {
        "id": "RerTz3HTxyUf",
        "colab_type": "text"
      },
      "source": [
        "# Coleta de Dados\n",
        "> Os dados foram coletados e disponibilizados pelo Prof. Dr. Tiago de Melo e contém cerca de 1.7 milhões de tweets coletados durante o primeiro semestre de 2020.\n",
        "<br>\n",
        "Link para download dos dados: http://tiagodemelo.info/datasets/dados-curso-completo.csv.tar.gz. "
      ]
    }
  ]
}