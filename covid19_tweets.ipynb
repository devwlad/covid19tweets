{
  "nbformat": 4,
  "nbformat_minor": 0,
  "metadata": {
    "colab": {
      "name": "covid19_tweets.ipynb",
      "provenance": [],
      "include_colab_link": true
    },
    "kernelspec": {
      "name": "python3",
      "display_name": "Python 3"
    }
  },
  "cells": [
    {
      "cell_type": "markdown",
      "metadata": {
        "id": "view-in-github",
        "colab_type": "text"
      },
      "source": [
        "<a href=\"https://colab.research.google.com/github/devwlad/covid19tweets/blob/master/covid19_tweets.ipynb\" target=\"_parent\"><img src=\"https://colab.research.google.com/assets/colab-badge.svg\" alt=\"Open In Colab\"/></a>"
      ]
    },
    {
      "cell_type": "markdown",
      "metadata": {
        "id": "RR72SfY0xRtz",
        "colab_type": "text"
      },
      "source": [
        "# **Análise de tweets brasileiros sobre a COVID-19**\n"
      ]
    },
    {
      "cell_type": "markdown",
      "metadata": {
        "id": "Q_FdnigXk7OG",
        "colab_type": "text"
      },
      "source": [
        "# Apresentação\n",
        "\n",
        "> ### Resumo\n",
        "Este documento tem o objetivo de apresentar uma análise exploratória de tweets gerados por brasileiros, e que envolvem o tema COVID-19, para extrair e visualizar informações úteis com o intuito de compreender as principais dúvidas das pessoas sobre esta pandemia.\n",
        "\n",
        "> ### Autores\n",
        "Alunos de pós-graduação em CIência de Dados da Universidade do Estado do Amazonas:\n",
        "1.   [Patrick Tapajós Pinto](https://www.linkedin.com/in/patrick-tapajos-pinto/)\n",
        "2.   [Wladimir Barroso Guedes de Araújo Neto](https://www.linkedin.com/in/wladneto/)\n",
        "\n",
        "> ### Ferramentas Utilizadas\n",
        "A análise será efetuada utilizando-se a linguagem de programação python e suas bibliotecas para análise e processamento de dados **Pandas** e **NumPy**, bem como as bibliotecas **Matplotlib** e **Seaborn** para visualização de dados.\n"
      ]
    },
    {
      "cell_type": "markdown",
      "metadata": {
        "id": "g5ZmOLuJxSwu",
        "colab_type": "text"
      },
      "source": [
        "# Introdução\n",
        "\n",
        "><div align=\"justify\">\n",
        "O surto do COVID-19 na China foi noticiado em dezembro de 2019. A Organização Mundial de Saúde (OMS) declarou estado de emergência devido ao rápido espalhamento do vírus no mundo. Na América Latina, o Brasil é o país mais afetado pela doença. De acordo com o relatório pela OMS, houve o registro de 347,398 casos de infectados e de 22,013 mortes no Brasil.\n",
        "<br>\n",
        "Devido à rápida propagação da doença no mundo, as plataformas de mídias sociais como Twitter, Facebook e Instagram tornaram-se locais onde ocorre uma intensa e contínua troca de informações entre órgãos governamentais, profissionais da área de saúde e o público em geral.\n",
        "Um representativo número de estudos científicos têm mostrado que as mídias sociais podem desempenhar um papel importante como fonte de dados para análise de crises e também para entender atitudes e comportamentos das pessoas durante uma pandemia.\n",
        "<br>\n",
        "Com o objetivo de auxiliar o monitoramento da saúde pública e também para dar suporte a tomada de decisão de profissionais, diversos sistemas de monitoramento são desenvolvidos para classificar grandes quantidades de dados oriundos das mídias sociais. Estes dados podem ser\n",
        "empregados para identificar rapidamente os pensamentos, atitudes, sentimentos e tópicos que ocupam as mentes das pessoas em relação à pandemia do COVID-19. A análise sistemática desses dados pode ajudar os governantes, profissionais da saúde e o público em geral a identificar\n",
        "questões que mais lhes interessam e tratá-las de maneira mais apropriada.\n",
        "<br>\n",
        "Dentre as plataformas de mídias sociais, o Twitter é uma das mais populares. De acordo com, existe aproximadamente 200 milhões de usuários registrados nesta plataforma e que publicam mais de 500 milhões de tuítes diariamente. Portanto, pode-se aproveitar desse alto volume e troca frequente de informações para se conhecer as dúvidas sobre determinadas doenças. Como exemplo de importância desta plataforma em situações de crise, a atual pandemia de COVID-19 foi primeiro comunicada para a populacão na China através do site Weibo, que é o correspondente ao Twitter na China, antes mesmo do pronunciamento oficial das autoridades locais. Recentemente, existe um grande interesse de pesquisadores investigando o uso do Twitter para pesquisas relacionadas à saúde pública.\n",
        "</div>\n"
      ]
    },
    {
      "cell_type": "markdown",
      "metadata": {
        "id": "RerTz3HTxyUf",
        "colab_type": "text"
      },
      "source": [
        "# Coleta de Dados\n",
        "> Os dados foram coletados e disponibilizados pelo Prof. Dr. Tiago de Melo e contém cerca de 1.7 milhões de tweets coletados durante o primeiro semestre de 2020.\n",
        "<br>\n",
        "Link para download dos dados: http://tiagodemelo.info/datasets/dados-curso-completo.csv.tar.gz. "
      ]
    },
    {
      "cell_type": "markdown",
      "metadata": {
        "id": "deH_46Dk2g-q",
        "colab_type": "text"
      },
      "source": [
        "# Preparação: Importações e funções utilizadas"
      ]
    },
    {
      "cell_type": "code",
      "metadata": {
        "id": "kIOEC6SIQsJQ",
        "colab_type": "code",
        "colab": {
          "base_uri": "https://localhost:8080/",
          "height": 121
        },
        "outputId": "a45a91e4-911a-46f5-b5ad-6f8764162384"
      },
      "source": [
        "# Importação das bibliotecas necessárias para a análise e visualização de dados\n",
        "import pandas as pd\n",
        "import seaborn as sns\n",
        "import matplotlib.pyplot as plt\n",
        "\n",
        "# Conjunto de bibliotecas e programas para processamento simbólico e estatístico de linguagem natural \n",
        "import nltk\n",
        "\n",
        "# Magic word, faz com que os gráficos sejam mostrados diretamente no notebook\n",
        "%matplotlib inline\n",
        "\n",
        "# Download de módulo necessário para gerar WordCloud\n",
        "nltk.download('stopwords')"
      ],
      "execution_count": null,
      "outputs": [
        {
          "output_type": "stream",
          "text": [
            "/usr/local/lib/python3.6/dist-packages/statsmodels/tools/_testing.py:19: FutureWarning: pandas.util.testing is deprecated. Use the functions in the public API at pandas.testing instead.\n",
            "  import pandas.util.testing as tm\n"
          ],
          "name": "stderr"
        },
        {
          "output_type": "stream",
          "text": [
            "[nltk_data] Downloading package stopwords to /root/nltk_data...\n",
            "[nltk_data]   Unzipping corpora/stopwords.zip.\n"
          ],
          "name": "stdout"
        },
        {
          "output_type": "execute_result",
          "data": {
            "text/plain": [
              "True"
            ]
          },
          "metadata": {
            "tags": []
          },
          "execution_count": 1
        }
      ]
    },
    {
      "cell_type": "code",
      "metadata": {
        "id": "HIp_rVoK6BEH",
        "colab_type": "code",
        "colab": {
          "base_uri": "https://localhost:8080/",
          "height": 34
        },
        "outputId": "06f56abd-f738-4075-ba94-1a99c9334042"
      },
      "source": [
        "# Montagem de drive para carregamento de dataset\n",
        "from google.colab import drive\n",
        "drive.mount('/content/drive')"
      ],
      "execution_count": null,
      "outputs": [
        {
          "output_type": "stream",
          "text": [
            "Drive already mounted at /content/drive; to attempt to forcibly remount, call drive.mount(\"/content/drive\", force_remount=True).\n"
          ],
          "name": "stdout"
        }
      ]
    },
    {
      "cell_type": "code",
      "metadata": {
        "id": "tzt1R87qExpX",
        "colab_type": "code",
        "colab": {}
      },
      "source": [
        "# Funções para geração de WordCloud com rápida visualização dos termos encontrados nos tweets (e por diversão :)) \n",
        "\n",
        "# Importação de libs necessárias\n",
        "from nltk.corpus import stopwords\n",
        "from nltk.tokenize import word_tokenize\n",
        "from wordcloud import WordCloud\n",
        "\n",
        "# Carregando as stopwords do idioma português\n",
        "sw_br = stopwords.words('portuguese');\n",
        "\n",
        "# Função para exclusão de stopwords e geração de lista com os termos encontrados\n",
        "def gen_words(text_list):\n",
        "  words = []\n",
        "  for s in text_list:\n",
        "    for p in s.lower().split():\n",
        "      if p not in sw_br:\n",
        "        words.append(p)\n",
        "  words = str(words)\n",
        "  return words\n",
        "\n",
        "# Função para exibir a imagem com as palavras\n",
        "def gen_img_word_cloud(text_list):\n",
        "  wordcloud = WordCloud(width=1000, height=500, margin=0).generate(gen_words(text_list))\n",
        "  plt.figure(figsize=(20, 11))\n",
        "  plt.imshow(wordcloud, interpolation='bilinear')\n",
        "  plt.axis('off')\n",
        "  plt.margins(x=0, y=0)\n"
      ],
      "execution_count": null,
      "outputs": []
    }
  ]
}